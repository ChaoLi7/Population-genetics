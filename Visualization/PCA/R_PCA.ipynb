{
 "cells": [
  {
   "cell_type": "code",
   "execution_count": null,
   "id": "63559721",
   "metadata": {},
   "outputs": [],
   "source": [
    "getwd()"
   ]
  },
  {
   "cell_type": "code",
   "execution_count": null,
   "id": "fb63b962",
   "metadata": {},
   "outputs": [],
   "source": [
    "#data format\n",
    "#labels\tPC1\tPC2\tPC3"
   ]
  },
  {
   "cell_type": "code",
   "execution_count": null,
   "id": "f57cab11",
   "metadata": {},
   "outputs": [],
   "source": [
    "setwd(\"path\")\n",
    "library(ggplot2)\n",
    "library(ggpubr)\n",
    "library(gcookbook)\n",
    "library(\"readxl\")"
   ]
  },
  {
   "cell_type": "code",
   "execution_count": null,
   "id": "071dbda6",
   "metadata": {},
   "outputs": [],
   "source": [
    "data <- read_excel(\"file.xlsx\", sheet = \"PCA_data\") #3.13、3.06\n",
    "head(data);dim(data)"
   ]
  },
  {
   "cell_type": "code",
   "execution_count": null,
   "id": "1dcb0f13",
   "metadata": {},
   "outputs": [],
   "source": [
    "values=c(\"LOW\"=\"green4\",\"SN\"=\"orchid3\",\"CQ\"=\"yellow4\",\n",
    "         \"LZ\"=\"peru\",\"NM\"=\"saddlebrown\",\"RT\"=\"wheat4\")"
   ]
  },
  {
   "cell_type": "code",
   "execution_count": null,
   "id": "300ef9f1",
   "metadata": {},
   "outputs": [],
   "source": [
    "ggplot(data, aes(x = data$V3, y =data$V4),width = 1)+\n",
    "  geom_point( aes(col=data$V1),shape=19,size=3) +\n",
    "  scale_color_manual(values = values)+ \n",
    "  scale_fill_manual(values=values) +\n",
    "  theme_bw()+theme(panel.grid.minor=element_blank())+\n",
    "  theme(panel.background=element_blank())+ theme(axis.text.x = element_text(colour = \"black\",size = 10))+\n",
    "  theme(axis.text.y = element_text(colour = \"black\",size = 10))+\n",
    "  theme(plot.margin=unit(c(1,1,1.5,1.5), \"lines\"),axis.ticks.margin=unit(0.25,\"lines\"))+ #coord_flip()+\n",
    "  xlab(\"PC1\") +ylab(\"PC2\") +\n",
    "  ggtitle(\"title\")+ #title\n",
    "  theme(\n",
    "    panel.grid.minor = element_blank(),\n",
    "    legend.title = element_blank(),\n",
    "    legend.text = element_text(size=8,colour=\"black\"),\n",
    "    legend.key.size = unit(0.5, \"lines\"),\n",
    "    legend.key = element_blank(),\n",
    "  )"
   ]
  }
 ],
 "metadata": {
  "kernelspec": {
   "display_name": "R",
   "language": "R",
   "name": "ir"
  }
 },
 "nbformat": 4,
 "nbformat_minor": 5
}
