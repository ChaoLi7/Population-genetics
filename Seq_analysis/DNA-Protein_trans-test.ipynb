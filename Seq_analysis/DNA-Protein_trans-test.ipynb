{
 "cells": [
  {
   "cell_type": "code",
   "execution_count": 1,
   "id": "f9f262b7",
   "metadata": {},
   "outputs": [],
   "source": [
    "inputfile = \"dna.txt\"\n",
    "f = open(inputfile, \"r\")\n",
    "seq = f.read()\n",
    "\n",
    "seq = seq.replace(\"\\n\", \"\")\n",
    "seq = seq.replace(\"\\r\", \"\")"
   ]
  },
  {
   "cell_type": "code",
   "execution_count": 2,
   "id": "c5e32fe2",
   "metadata": {},
   "outputs": [],
   "source": [
    "def translate(seq):\n",
    "    \"\"\"Translate a string containing a nucleotide sequence into a string \n",
    "    containing the corresponding sequence of amino acids. Nucleotides are\n",
    "    transclated in triplets using the table dictionary; each amino acid \n",
    "    is encoded with a string of length 1.\"\"\"\n",
    "    table = {\n",
    "        'ATA':'I', 'ATC':'I', 'ATT':'I', 'ATG':'M',\n",
    "        'ACA':'T', 'ACC':'T', 'ACG':'T', 'ACT':'T',\n",
    "        'AAC':'N', 'AAT':'N', 'AAA':'K', 'AAG':'K',\n",
    "        'AGC':'S', 'AGT':'S', 'AGA':'R', 'AGG':'R',\n",
    "        'CTA':'L', 'CTC':'L', 'CTG':'L', 'CTT':'L',\n",
    "        'CCA':'P', 'CCC':'P', 'CCG':'P', 'CCT':'P',\n",
    "        'CAC':'H', 'CAT':'H', 'CAA':'Q', 'CAG':'Q',\n",
    "        'CGA':'R', 'CGC':'R', 'CGG':'R', 'CGT':'R',\n",
    "        'GTA':'V', 'GTC':'V', 'GTG':'V', 'GTT':'V',\n",
    "        'GCA':'A', 'GCC':'A', 'GCG':'A', 'GCT':'A',\n",
    "        'GAC':'D', 'GAT':'D', 'GAA':'E', 'GAG':'E',\n",
    "        'GGA':'G', 'GGC':'G', 'GGG':'G', 'GGT':'G',\n",
    "        'TCA':'S', 'TCC':'S', 'TCG':'S', 'TCT':'S',\n",
    "        'TTC':'F', 'TTT':'F', 'TTA':'L', 'TTG':'L',\n",
    "        'TAC':'Y', 'TAT':'Y', 'TAA':'_', 'TAG':'_',\n",
    "        'TGC':'C', 'TGT':'C', 'TGA':'_', 'TGG':'W',\n",
    "    }\n",
    "    # check that the sequence length is divisble by 3\n",
    "    protein = \"\"\n",
    "    if len(seq) % 3 == 0:\n",
    "        for i in range(0, len(seq), 3):\n",
    "            codon = seq[i : i+3]\n",
    "            protein += table[codon]\n",
    "            \n",
    "    return protein"
   ]
  },
  {
   "cell_type": "code",
   "execution_count": 3,
   "id": "bd597e5a",
   "metadata": {},
   "outputs": [],
   "source": [
    "def read_seq(inputfile):\n",
    "    \"\"\"Reads and returns the input sequence with special characters removed.\"\"\"\n",
    "    with open(inputfile, \"r\") as f:\n",
    "        seq = f.read()\n",
    "    seq = seq.replace(\"\\n\", \"\")\n",
    "    seq = seq.replace(\"\\r\", \"\")\n",
    "    return seq"
   ]
  },
  {
   "cell_type": "code",
   "execution_count": 7,
   "id": "856dd03c",
   "metadata": {},
   "outputs": [],
   "source": [
    "prt = read_seq(\"protein.txt\")\n",
    "dna = read_seq(\"dna.txt\")"
   ]
  },
  {
   "cell_type": "code",
   "execution_count": 11,
   "id": "474b4cd8",
   "metadata": {},
   "outputs": [
    {
     "data": {
      "text/plain": [
       "'MSTHDTSLKTTEEVAFQIILLCQFGVGTFANVFLFVYNFSPISTGSKQRPRQVILRHMAV'"
      ]
     },
     "execution_count": 11,
     "metadata": {},
     "output_type": "execute_result"
    }
   ],
   "source": [
    "translate(dna[20:200])\n"
   ]
  },
  {
   "cell_type": "code",
   "execution_count": 13,
   "id": "4ab1c079",
   "metadata": {},
   "outputs": [
    {
     "data": {
      "text/plain": [
       "'C'"
      ]
     },
     "execution_count": 13,
     "metadata": {},
     "output_type": "execute_result"
    }
   ],
   "source": [
    "translate(dna[20:935])[-1]"
   ]
  },
  {
   "cell_type": "code",
   "execution_count": null,
   "id": "673b9251",
   "metadata": {},
   "outputs": [],
   "source": []
  }
 ],
 "metadata": {
  "kernelspec": {
   "display_name": "Python 3",
   "language": "python",
   "name": "python3"
  },
  "language_info": {
   "codemirror_mode": {
    "name": "ipython",
    "version": 3
   },
   "file_extension": ".py",
   "mimetype": "text/x-python",
   "name": "python",
   "nbconvert_exporter": "python",
   "pygments_lexer": "ipython3",
   "version": "3.8.8"
  }
 },
 "nbformat": 4,
 "nbformat_minor": 5
}
